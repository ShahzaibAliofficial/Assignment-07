{
 "cells": [
  {
   "cell_type": "markdown",
   "id": "d5b7180d-c7a1-4ae4-82f0-ba891d87f3ff",
   "metadata": {},
   "source": [
    "# Assignment #07:"
   ]
  },
  {
   "cell_type": "markdown",
   "id": "c80ac084-5407-4cd7-832f-f84a02b82f6f",
   "metadata": {},
   "source": [
    "### Answer #01:"
   ]
  },
  {
   "cell_type": "code",
   "execution_count": 3,
   "id": "4194d6c0-46e2-4ada-a96b-d6605ec32806",
   "metadata": {},
   "outputs": [
    {
     "data": {
      "text/plain": [
       "'1 Year'"
      ]
     },
     "execution_count": 3,
     "metadata": {},
     "output_type": "execute_result"
    }
   ],
   "source": [
    "class Employee:\n",
    "    def __init__(self, name, number, address, salary, post, year_of_joining, education, year_of_experience):\n",
    "        self.name = name\n",
    "        self.number = number\n",
    "        self.address = address\n",
    "        self.salary = salary\n",
    "        self.post = post\n",
    "        self.year_of_joining = year_of_joining\n",
    "        self.education = education\n",
    "        self.year_of_experience = year_of_experience\n",
    "\n",
    "Employees_data = Employee(\"Shahzaib Ali\",1235456545,\"Karachi,Pakistan\",100000, \"Data Analyst\",2023,\"Bachelors\",\"1 Year\")\n",
    "Employees_data.name\n",
    "Employees_data.number\n",
    "Employees_data.address\n",
    "Employees_data.salary\n",
    "Employees_data.post\n",
    "Employees_data.year_of_joining\n",
    "Employees_data.education\n",
    "Employees_data.year_of_experience\n"
   ]
  },
  {
   "cell_type": "code",
   "execution_count": 5,
   "id": "ea31b256-aa07-4fc8-8880-582d2959b736",
   "metadata": {},
   "outputs": [
    {
     "name": "stdout",
     "output_type": "stream",
     "text": [
      "The name of the Employee is : Shahzaib Ali\n",
      "The number of the Employee is : 1235456545\n",
      "The address of the Employee is : Karachi,Pakistan\n",
      "The salary of the Employee is : 100000\n",
      "The post of the Employee is : Data Analyst\n",
      "The year_of_joining of the Employee is : 2023\n",
      "The education of the Employee is : Bachelors\n",
      "The year_of_experience of the Employee is : 1 Year\n",
      "The name of the Employee is : Shahzaib Ali\n",
      "The number of the Employee is : 1235456545\n",
      "The address of the Employee is : Karachi,Pakistan\n",
      "The salary of the Employee is : 1100000\n",
      "The post of the Employee is : Data Analyst\n",
      "The year_of_joining of the Employee is : 2023\n",
      "The education of the Employee is : Bachelors\n",
      "The year_of_experience of the Employee is : 5\n"
     ]
    }
   ],
   "source": [
    "class Employee:\n",
    "    def __init__(self, name, number, address, salary, post, year_of_joining, education, year_of_experience):\n",
    "        self.name = name\n",
    "        self.number = number\n",
    "        self.address = address\n",
    "        self.salary = salary\n",
    "        self.post = post\n",
    "        self.year_of_joining = year_of_joining\n",
    "        self.education = education\n",
    "        self.year_of_experience = year_of_experience\n",
    "    def describe_employee(self):\n",
    "\n",
    "        print(f'The name of the Employee is : {Employees_data.name}')\n",
    "        print(f'The number of the Employee is : {Employees_data.number}')\n",
    "        print(f'The address of the Employee is : {Employees_data.address}')\n",
    "        print(f'The salary of the Employee is : {Employees_data.salary}')\n",
    "        print(f'The post of the Employee is : {Employees_data.post}')\n",
    "        print(f'The year_of_joining of the Employee is : {Employees_data.year_of_joining}')\n",
    "        print(f'The education of the Employee is : {Employees_data.education}')\n",
    "        print(f'The year_of_experience of the Employee is : {Employees_data.year_of_experience}')\n",
    "\n",
    "    def update_year_of_experience(self, new_year_of_experience):\n",
    "        self.year_of_experience = new_year_of_experience\n",
    "\n",
    "    def increment_of_salary(self, increased_salary):\n",
    "        self.salary = increased_salary\n",
    "Employees_data = Employee(\"Shahzaib Ali\",1235456545,\"Karachi,Pakistan\",100000, \"Data Analyst\",2023,\"Bachelors\",\"1 Year\")\n",
    "Employees_data.describe_employee()\n",
    "Employees_data.update_year_of_experience(5)\n",
    "Employees_data.increment_of_salary(1100000)\n",
    "Employees_data.describe_employee()\n"
   ]
  },
  {
   "cell_type": "code",
   "execution_count": 7,
   "id": "018d8b23-2b51-450a-a2bb-96f7a0e14215",
   "metadata": {},
   "outputs": [
    {
     "name": "stdout",
     "output_type": "stream",
     "text": [
      "The name of the Employee is : Shahzaib Ali\n",
      "The salary of the Employee is : 100000\n",
      "The post of the Employee is : Data Analyst\n",
      "The year_of_experience of the Employee is : 5 Years\n",
      "\n",
      " Describing Employee\n",
      "The name of the Employee is : Shahzaib Ali\n",
      "The salary of the Employee is : 100000\n",
      "The post of the Employee is : Data Analyst\n",
      "The year_of_experience of the Employee is : 5 Years\n",
      "\n",
      " update year of experience\n",
      "The name of the Employee is : Shahzaib Ali\n",
      "The salary of the Employee is : 100000\n",
      "The post of the Employee is : Data Analyst\n",
      "The year_of_experience of the Employee is : 4 years\n",
      "\n",
      " increment of salary\n",
      "The name of the Employee is : Shahzaib Ali\n",
      "The salary of the Employee is : 1500000\n",
      "The post of the Employee is : Data Analyst\n",
      "The year_of_experience of the Employee is : 4 years\n"
     ]
    }
   ],
   "source": [
    "class Employee:\n",
    "    def __init__(self, name, salary, post, year_of_experience):\n",
    "        self.name = name\n",
    "        self.salary = salary\n",
    "        self.post = post\n",
    "        self.year_of_experience = year_of_experience\n",
    "    def describe_employee(self):\n",
    "        print(f'The name of the Employee is : {self.name}')\n",
    "        print(f'The salary of the Employee is : {self.salary}')\n",
    "        print(f'The post of the Employee is : {self.post}')\n",
    "        print(f'The year_of_experience of the Employee is : {self.year_of_experience}')\n",
    "\n",
    "    def update_year_of_experience(self, new_year_of_experience):\n",
    "        self.year_of_experience = new_year_of_experience\n",
    "\n",
    "    def increment_of_salary(self, increased_salary):\n",
    "        self.salary = increased_salary\n",
    "\n",
    "employee101 = Employee(\"Shahzaib Ali\",100000, \"Data Analyst\",\"5 Years\")\n",
    "\n",
    "# Printing Attribites Individually\n",
    "\n",
    "print(f'The name of the Employee is : {employee101.name}')\n",
    "print(f'The salary of the Employee is : {employee101.salary}')\n",
    "print(f'The post of the Employee is : {employee101.post}')\n",
    "print(f'The year_of_experience of the Employee is : {employee101.year_of_experience}')\n",
    "\n",
    "# Calling Method\n",
    "\n",
    "print(\"\\n Describing Employee\")\n",
    "employee101.describe_employee()\n",
    "\n",
    "\n",
    "print(\"\\n update year of experience\")\n",
    "employee101.update_year_of_experience(\"4 years\")\n",
    "employee101.describe_employee()\n",
    "\n",
    "print(\"\\n increment of salary\")\n",
    "employee101.increment_of_salary(1500000)\n",
    "\n",
    "employee101.describe_employee()"
   ]
  },
  {
   "cell_type": "markdown",
   "id": "c3ac9cbe-c878-4cbb-94d9-4a9b95e51713",
   "metadata": {},
   "source": [
    "### Answer #04:"
   ]
  },
  {
   "cell_type": "code",
   "execution_count": 14,
   "id": "e316fafe-6880-4c21-a9a5-b7fc10ba53a4",
   "metadata": {},
   "outputs": [
    {
     "name": "stdout",
     "output_type": "stream",
     "text": [
      "Employee Name: Alice, Age: 28, Position: Software Engineer, Salary: $80000\n",
      "Employee Name: Bob, Age: 35, Position: Project Manager, Salary: $95000\n",
      "Employee Name: Charlie, Age: 30, Position: Data Analyst, Salary: $70000\n",
      "Employee Name: David, Age: 45, Position: HR Manager, Salary: $85000\n",
      "Employee Name: Eva, Age: 32, Position: UX Designer, Salary: $78000\n",
      "Employee Name: Frank, Age: 29, Position: DevOps Engineer, Salary: $82000\n",
      "Employee Name: Grace, Age: 40, Position: Marketing Manager, Salary: $90000\n",
      "Employee Name: Hank, Age: 34, Position: Product Manager, Salary: $91000\n",
      "Employee Name: Ivy, Age: 27, Position: Business Analyst, Salary: $75000\n",
      "Employee Name: Jack, Age: 31, Position: Sales Executive, Salary: $72000\n",
      "\n",
      "--- After Updates ---\n",
      "\n",
      "Employee Name: Alice, Age: 28, Position: Senior Software Engineer, Salary: $80000\n",
      "Employee Name: Bob, Age: 35, Position: Project Manager, Salary: $100000\n",
      "Employee Name: Charlie, Age: 30, Position: Data Analyst, Salary: $75000\n",
      "Employee Name: David, Age: 45, Position: HR Manager, Salary: $95000\n",
      "Employee Name: Eva, Age: 32, Position: Senior UX Designer, Salary: $78000\n",
      "Employee Name: Frank, Age: 29, Position: DevOps Engineer, Salary: $89000\n",
      "Employee Name: Grace, Age: 40, Position: Marketing Manager, Salary: $95000\n",
      "Employee Name: Hank, Age: 34, Position: Senior Product Manager, Salary: $91000\n",
      "Employee Name: Ivy, Age: 27, Position: Business Analyst, Salary: $79000\n",
      "Employee Name: Jack, Age: 31, Position: Sales Executive, Salary: $78000\n"
     ]
    }
   ],
   "source": [
    "class Employee:\n",
    "    def __init__(self, name, age, position, salary):\n",
    "        self.name = name\n",
    "        self.age = age\n",
    "        self.position = position\n",
    "        self.salary = salary\n",
    "\n",
    "    def describe_employee(self):\n",
    "        return f\"Employee Name: {self.name}, Age: {self.age}, Position: {self.position}, Salary: ${self.salary}\"\n",
    "\n",
    "    def update_position(self, new_position):\n",
    "        self.position = new_position\n",
    "\n",
    "    def update_salary(self, new_salary):\n",
    "        self.salary = new_salary\n",
    "\n",
    "    def give_raise(self, amount):\n",
    "        self.salary += amount\n",
    "\n",
    "# Creating 10 instances of Employee\n",
    "employees = [\n",
    "    Employee(\"Alice\", 28, \"Software Engineer\", 80000),\n",
    "    Employee(\"Bob\", 35, \"Project Manager\", 95000),\n",
    "    Employee(\"Charlie\", 30, \"Data Analyst\", 70000),\n",
    "    Employee(\"David\", 45, \"HR Manager\", 85000),\n",
    "    Employee(\"Eva\", 32, \"UX Designer\", 78000),\n",
    "    Employee(\"Frank\", 29, \"DevOps Engineer\", 82000),\n",
    "    Employee(\"Grace\", 40, \"Marketing Manager\", 90000),\n",
    "    Employee(\"Hank\", 34, \"Product Manager\", 91000),\n",
    "    Employee(\"Ivy\", 27, \"Business Analyst\", 75000),\n",
    "    Employee(\"Jack\", 31, \"Sales Executive\", 72000)\n",
    "]\n",
    "\n",
    "# Describing each employee\n",
    "for emp in employees:\n",
    "    print(emp.describe_employee())\n",
    "\n",
    "# Performing some updates\n",
    "employees[0].update_position(\"Senior Software Engineer\")\n",
    "employees[1].give_raise(5000)\n",
    "employees[2].update_salary(75000)\n",
    "employees[3].give_raise(10000)\n",
    "employees[4].update_position(\"Senior UX Designer\")\n",
    "employees[5].give_raise(7000)\n",
    "employees[6].update_salary(95000)\n",
    "employees[7].update_position(\"Senior Product Manager\")\n",
    "employees[8].give_raise(4000)\n",
    "employees[9].update_salary(78000)\n",
    "\n",
    "print(\"\\n--- After Updates ---\\n\")\n",
    "\n",
    "# Describing each employee after updates\n",
    "for emp in employees:\n",
    "    print(emp.describe_employee())\n",
    "\n"
   ]
  },
  {
   "cell_type": "code",
   "execution_count": null,
   "id": "557c6594-bcf0-4f27-969f-f5d92b9c27dc",
   "metadata": {},
   "outputs": [],
   "source": []
  },
  {
   "cell_type": "code",
   "execution_count": null,
   "id": "d200b499-130d-4d16-91ab-cc68edb0a44f",
   "metadata": {},
   "outputs": [],
   "source": []
  }
 ],
 "metadata": {
  "kernelspec": {
   "display_name": "Python 3 (ipykernel)",
   "language": "python",
   "name": "python3"
  },
  "language_info": {
   "codemirror_mode": {
    "name": "ipython",
    "version": 3
   },
   "file_extension": ".py",
   "mimetype": "text/x-python",
   "name": "python",
   "nbconvert_exporter": "python",
   "pygments_lexer": "ipython3",
   "version": "3.12.4"
  }
 },
 "nbformat": 4,
 "nbformat_minor": 5
}
